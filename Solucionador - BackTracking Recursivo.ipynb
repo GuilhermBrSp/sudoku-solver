{
 "cells": [
  {
   "metadata": {
    "trusted": true
   },
   "cell_type": "code",
   "source": [
    "grid_nao_eficiente = [\n",
    "    [0, 0, 0, 0, 0, 0, 0, 0, 0],\n",
    "    [0, 0, 0, 0, 0, 3, 0, 8, 5],\n",
    "    [0, 0, 1, 0, 2, 0, 0, 0, 0],\n",
    "    [0, 0, 0, 5, 0, 7, 0, 0, 0],\n",
    "    [0, 0, 4, 0, 0, 0, 1, 0, 0],\n",
    "    [0, 9, 0, 0, 0, 0, 0, 0, 0],\n",
    "    [5, 0, 0, 0, 0, 0, 0, 7, 3],\n",
    "    [0, 0, 2, 0, 1, 0, 0, 0, 0],\n",
    "    [0, 0, 0, 0, 4, 0, 0, 0, 9]]\n",
    "\n",
    "grid_eficiente = [\n",
    "    [5, 3, 0, 0, 7, 0, 0, 0, 0],\n",
    "    [6, 0, 0, 1, 9, 5, 0, 0, 0],\n",
    "    [0, 9, 8, 0, 0, 0, 0, 6, 0],\n",
    "    [8, 0, 0, 0, 6, 0, 0, 0, 3],\n",
    "    [4, 0, 0, 8, 0, 3, 0, 0, 1],\n",
    "    [7, 0, 0, 0, 2, 0, 0, 0, 6],\n",
    "    [0, 6, 0, 0, 0, 0, 2, 8, 0],\n",
    "    [0, 0, 0, 4, 1, 9, 0, 0, 5],\n",
    "    [0, 0, 0, 0, 8, 0, 0, 7, 9]]\n",
    "\n",
    "grid = grid_eficiente\n"
   ],
   "execution_count": 1,
   "outputs": []
  },
  {
   "metadata": {
    "trusted": true
   },
   "cell_type": "code",
   "source": [
    "def possivel(y, x, n):\n",
    "    global grid\n",
    "    for i in range(0, 9):\n",
    "        if grid[y][i] == n:\n",
    "            return False\n",
    "    for i in range(0, 9):\n",
    "        if grid[i][x] == n:\n",
    "            return False\n",
    "    x0 = (x // 3) * 3\n",
    "    y0 = (y // 3) * 3\n",
    "    for i in range(0, 3):\n",
    "        for j in range(0, 3):\n",
    "            if grid[y0 + i][x0 + j] == n:\n",
    "                return False\n",
    "    return True"
   ],
   "execution_count": 2,
   "outputs": []
  },
  {
   "metadata": {
    "trusted": true
   },
   "cell_type": "code",
   "source": [
    "def soluciona():\n",
    "    global grid\n",
    "    for y in range(9):\n",
    "        for x in range(9):\n",
    "            # Procura quadradinhos vazios\n",
    "            if grid[y][x] == 0:\n",
    "                for n in range(1, 10):\n",
    "                    # Se for possivel colocar algum valor no quadradinho vazio\n",
    "                    if possivel(y, x, n):\n",
    "                        # Preenche com o vaklor\n",
    "                        grid[y][x] = n\n",
    "                        # Aqui nós reduzimos o problema, então é uma boa chamada para recursao\n",
    "                        soluciona()\n",
    "                        # Se ele nao consegui completar a solucao, é porque foi uma escolha ruim\n",
    "                        # Entao a gente remove o valor, da um passo pra tras (backtracking)\n",
    "                        grid[y][x] = 0\n",
    "                # Se ele tentou todos os valores possiveis para um vazio\n",
    "                # e não deu certo, então ele retorna sem solucão\n",
    "                return\n",
    "    for linha in grid:\n",
    "        print(linha)\n",
    "    input(\"Mais solucao? \")\n"
   ],
   "execution_count": 3,
   "outputs": []
  },
  {
   "metadata": {
    "trusted": true
   },
   "cell_type": "code",
   "source": "soluciona()",
   "execution_count": 4,
   "outputs": [
    {
     "output_type": "stream",
     "text": "[5, 3, 4, 6, 7, 8, 9, 1, 2]\n[6, 7, 2, 1, 9, 5, 3, 4, 8]\n[1, 9, 8, 3, 4, 2, 5, 6, 7]\n[8, 5, 9, 7, 6, 1, 4, 2, 3]\n[4, 2, 6, 8, 5, 3, 7, 9, 1]\n[7, 1, 3, 9, 2, 4, 8, 5, 6]\n[9, 6, 1, 5, 3, 7, 2, 8, 4]\n[2, 8, 7, 4, 1, 9, 6, 3, 5]\n[3, 4, 5, 2, 8, 6, 1, 7, 9]\nMais solucao? s\n",
     "name": "stdout"
    }
   ]
  }
 ],
 "metadata": {
  "kernelspec": {
   "name": "python3",
   "display_name": "Python 3",
   "language": "python"
  },
  "language_info": {
   "name": "python",
   "version": "3.7.8",
   "mimetype": "text/x-python",
   "codemirror_mode": {
    "name": "ipython",
    "version": 3
   },
   "pygments_lexer": "ipython3",
   "nbconvert_exporter": "python",
   "file_extension": ".py"
  }
 },
 "nbformat": 4,
 "nbformat_minor": 4
}