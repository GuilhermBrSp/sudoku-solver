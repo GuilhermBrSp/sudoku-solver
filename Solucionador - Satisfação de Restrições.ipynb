{
 "cells": [
  {
   "metadata": {
    "trusted": true
   },
   "cell_type": "code",
   "source": "import sys\n!{sys.executable} -m pip install python-constraint\n\n\nfrom constraint import *\n",
   "execution_count": null,
   "outputs": []
  },
  {
   "metadata": {
    "trusted": true
   },
   "cell_type": "code",
   "source": "# Inicializando nossas variáveis\n\nLINHAS = 'abcdefghi'\nCOLUNAS = '123456789'\nDIGITOS = range(1, 10)\nVARIAVEIS = [linha + coluna for linha in LINHAS for coluna in COLUNAS]\nGRUPOS_DE_LINHAS = [[linha + coluna for coluna in COLUNAS] for linha in LINHAS]\nGRUPOS_DE_COLUNAS = [[linha + coluna for linha in LINHAS] for coluna in COLUNAS]\nGRUPO_DE_QUADRADOS = [\n    [LINHAS[3 * grupo_linha + k] + COLUNAS[3 * grupo_coluna + j]\n     for j in range(3) for k in range(3)]\n    for grupo_coluna in range(3) for grupo_linha in range(3)\n]",
   "execution_count": null,
   "outputs": []
  },
  {
   "metadata": {
    "trusted": true
   },
   "cell_type": "code",
   "source": "dicas = (\n    0, 0, 8,  0, 0, 6,  0, 0, 0,\n    0, 0, 4,  3, 7, 9,  8, 0, 0,\n    5, 7, 0,  0, 1, 0,  3, 2, 0,\n\n    0, 5, 2,  0, 0, 7,  0, 0, 0,\n    0, 6, 0,  5, 9, 8,  0, 4, 0,\n    0, 0, 0,  4, 0, 0,  5, 7, 0,\n\n    0, 2, 1,  0, 4, 0,  0, 9, 8,\n    0, 0, 9,  6, 2, 3,  1, 0, 0,\n    0, 0, 0,  9, 0, 0,  7, 0, 0,\n)",
   "execution_count": null,
   "outputs": []
  },
  {
   "metadata": {
    "trusted": true
   },
   "cell_type": "code",
   "source": "def soluciona(dicas):\n    problema = Problem()\n    for variavel, dica in zip(VARIAVEIS, dicas):\n        # Adiciona variavel com a unica possibilidade da dica, se existir,\n        # Caso a dica não exista, adiciona a variável com dígitos possíveis\n        problema.addVariables([variavel], [dica] if dica in DIGITOS else DIGITOS)\n\n    for grupos_de_variaveis in [GRUPOS_DE_LINHAS, GRUPOS_DE_COLUNAS, GRUPO_DE_QUADRADOS]:\n        for grupo_de_variavel in grupos_de_variaveis:\n            # Para cada grupo de variável (linhas, colunas e quadrados), adiciona a constraint\n            # de todos differentes (allDifferent)\n            problema.addConstraint(AllDifferentConstraint(), grupo_de_variavel)\n    return problema.getSolutions()",
   "execution_count": null,
   "outputs": []
  },
  {
   "metadata": {
    "trusted": true
   },
   "cell_type": "code",
   "source": "def formata_grid(conjunto_de_solucoes):\n    for variavel_para_valor in conjunto_de_solucoes:\n        tabela = ''\n        for linhanum, linha in enumerate('abcdefghi'):\n            for colunanum, coluna in enumerate('123456789'):\n                tabela += str(variavel_para_valor[linha+coluna])\n                if colunanum % 3 == 2:\n                    tabela += ' '\n            tabela += '\\n'\n            if linhanum % 3 == 2:\n                tabela += '\\n'\n        print(tabela)\n        print(\"--- --- ---\")\n        input(\"Mais soluções? \")\n    return",
   "execution_count": null,
   "outputs": []
  },
  {
   "metadata": {
    "trusted": true
   },
   "cell_type": "code",
   "source": "formata_grid(soluciona(dicas))",
   "execution_count": null,
   "outputs": []
  }
 ],
 "metadata": {
  "kernelspec": {
   "name": "python3",
   "display_name": "Python 3",
   "language": "python"
  },
  "language_info": {
   "name": "python",
   "version": "3.7.8",
   "mimetype": "text/x-python",
   "codemirror_mode": {
    "name": "ipython",
    "version": 3
   },
   "pygments_lexer": "ipython3",
   "nbconvert_exporter": "python",
   "file_extension": ".py"
  }
 },
 "nbformat": 4,
 "nbformat_minor": 4
}